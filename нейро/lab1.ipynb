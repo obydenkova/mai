{
 "cells": [
  {
   "cell_type": "markdown",
   "metadata": {},
   "source": [
    "##          Московский авиационный институт\n",
    "###      (Национальный исследовательский университет)\n",
    "####   Институт №8 «Информационные технологии и прикладная математика»\n",
    "####        Кафедра вычислительной математики и программирования\n",
    "\n",
    "  \n",
    " \n",
    " \n",
    "\n",
    "\n",
    "\n",
    "\n",
    "\n",
    "            Лабораторная работа № 1 \n",
    "            по курсу «Нейроинформатика».\n",
    "            \n",
    "           \n",
    "\n",
    " \n",
    " \n",
    " \n",
    "\n",
    "\n",
    "\n",
    "\n",
    "\n",
    "\n",
    "\n",
    "                                  Студент: Обыденкова Ю.Ю.\n",
    "                                  Группа: 80-408Б\n",
    "                                   \n",
    "\n",
    "\n",
    " \n",
    "\n",
    "                        Москва, 2022"
   ]
  },
  {
   "cell_type": "code",
   "execution_count": 1,
   "metadata": {},
   "outputs": [],
   "source": [
    "import numpy as np\n",
    "import pandas as pd\n",
    "import matplotlib.pyplot as plt\n",
    "import random\n",
    "import os\n",
    "from functools import reduce"
   ]
  },
  {
   "cell_type": "code",
   "execution_count": 2,
   "metadata": {
    "jupyter": {
     "source_hidden": true
    },
    "tags": []
   },
   "outputs": [],
   "source": [
    "colors1 = ['m', 'c']\n",
    "colors2 = [['m', 'c'], ['g', 'y']]\n",
    "\n",
    "def Plot(df,number):\n",
    "    if number == 1:\n",
    "        plt.grid(True)\n",
    "        plt.plot(df[df['y'] == 0]['x1'], df[df['y'] == 0]['x2'], 'o', c=colors1[0])\n",
    "        plt.plot(df[df['y'] == 1]['x1'], df[df['y'] == 1]['x2'], 'o', c=colors1[1])\n",
    "    elif number == 2:\n",
    "        plt.grid(True)\n",
    "        plt.plot(df[(df['y1'] == 0) & (df['y2'] == 0)]['x1'], df[(df['y1'] == 0) & (df['y2'] == 0)]['x2'], 'o', c=colors2[0][0])\n",
    "        plt.plot(df[(df['y1'] == 1) & (df['y2'] == 1)]['x1'], df[(df['y1'] == 1) & (df['y2'] == 1)]['x2'], 'o', c=colors2[1][1])\n",
    "        plt.plot(df[(df['y1'] == 0) & (df['y2'] == 1)]['x1'], df[(df['y1'] == 0) & (df['y2'] == 1)]['x2'], 'o', c=colors2[0][1])\n",
    "        plt.plot(df[(df['y1'] == 1) & (df['y2'] == 0)]['x1'], df[(df['y1'] == 1) & (df['y2'] == 0)]['x2'], 'o', c=colors2[1][0])\n",
    "    else:\n",
    "        raise Exception(\"Invalid number of plot\")"
   ]
  },
  {
   "cell_type": "code",
   "execution_count": 3,
   "metadata": {},
   "outputs": [],
   "source": [
    "class Perceptron:\n",
    "    def __init__(self, epochs=50,task=True):\n",
    "        self.epochs = epochs\n",
    "        \n",
    "        self.weights = []\n",
    "        self.bias = 0\n",
    "        self.errors = []\n",
    "        \n",
    "    def Train(self, X, Y, task=True):\n",
    "        random.seed(5)\n",
    "        if task:\n",
    "            self.weights = np.random.sample((2, 2))\n",
    "            self.bias = np.random.sample(2)\n",
    "\n",
    "        else:\n",
    "            self.bias = random.random()\n",
    "            self.weights = np.random.sample(2)\n",
    "\n",
    "            \n",
    "        iter = 0\n",
    "        i = 0\n",
    "        while i < X.shape[0]:\n",
    "            print('iter: {} weights: {} bias: {}\\n'.format(iter, self.weights, self.bias))\n",
    "            if iter == self.epochs:\n",
    "                break\n",
    "            prediction = self.Predict(X[i], self.weights, self.bias)\n",
    "\n",
    "            error = Y[i] - prediction\n",
    "            self.errors.append(abs(error))            \n",
    "            if (np.linalg.norm(error) != 0):\n",
    "                #print('iter: {} weights: {} bias: {}\\n'.format(iter, self.weights, self.bias))\n",
    "                if task:\n",
    "                    self.weights +=  X[i].reshape(-1, 1).dot(error.reshape(1, -1))\n",
    " \n",
    "                else:\n",
    "                    self.weights +=  X[i] * error\n",
    "\n",
    "                self.bias += error\n",
    "\n",
    "                i = -1\n",
    "            i += 1\n",
    "            iter += 1\n",
    "        \n",
    "        return self.weights, self.bias\n",
    "    \n",
    "    def MAE(self):\n",
    "        return sum(self.errors) / len(self.errors)\n",
    "    \n",
    "    def F(self, x, w, b):\n",
    "        return np.dot(x, w) + b\n",
    "         \n",
    "        \n",
    "    def Predict(self, seq, weights, bias, task=True):\n",
    "        if task:\n",
    "            return np.heaviside(self.F(seq, weights, bias), 1)\n",
    "        return 1 if self.F(seq, weights, bias) >= 0 else 0\n",
    "\n",
    "    \n",
    "def DividingLine(x, w0, w1, b):\n",
    "    return (-w0 * x - b)/w1"
   ]
  },
  {
   "cell_type": "markdown",
   "metadata": {},
   "source": [
    "### 1 выборка"
   ]
  },
  {
   "cell_type": "code",
   "execution_count": 4,
   "metadata": {},
   "outputs": [],
   "source": [
    "X = np.array([[3, -3.8, -1.8, -1.1, -3.2, -4.8], [2.4, 0.2, 0.4, -0.9, -2.5, 4.2]], dtype=np.float32)\n",
    "Y = np.array([0, 1, 1, 1, 1, 0])\n",
    "\n",
    "ds = np.insert(X, 2, Y, axis=0)\n",
    "df = pd.DataFrame(ds.T, columns=['x1', 'x2', 'y'])"
   ]
  },
  {
   "cell_type": "code",
   "execution_count": 5,
   "metadata": {},
   "outputs": [
    {
     "data": {
      "image/png": "[encoded data removed]",
      "text/plain": [
       "<Figure size 432x288 with 1 Axes>"
      ]
     },
     "metadata": {
      "needs_background": "light"
     },
     "output_type": "display_data"
    }
   ],
   "source": [
    "df\n",
    "Plot(df,1)"
   ]
  },
  {
   "cell_type": "markdown",
   "metadata": {},
   "source": [
    "### 2 выборка"
   ]
  },
  {
   "cell_type": "code",
   "execution_count": 6,
   "metadata": {
    "tags": []
   },
   "outputs": [],
   "source": [
    "X2 = np.array([[2, 2.3, 0.4, -1.9, -3.2, -0.4, 4.1, -5], [-1.3, 4.5, 0.4, -4.3, -4.1, -5, 1.4, -4.7]], dtype=np.float32)\n",
    "Y2 = np.array([[0, 0, 0, 1, 1, 1, 0, 1], [1, 0, 0, 0, 0, 1, 1, 0]])\n",
    "\n",
    "ds2 = np.insert(X2, 2, Y2, axis=0)\n",
    "df2 = pd.DataFrame(ds2.T, columns=['x1', 'x2', 'y1', 'y2'])"
   ]
  },
  {
   "cell_type": "code",
   "execution_count": 7,
   "metadata": {},
   "outputs": [
    {
     "data": {
      "image/png": "[encoded data removed]",
      "text/plain": [
       "<Figure size 432x288 with 1 Axes>"
      ]
     },
     "metadata": {
      "needs_background": "light"
     },
     "output_type": "display_data"
    }
   ],
   "source": [
    "Plot(df2,2)"
   ]
  },
  {
   "cell_type": "code",
   "execution_count": 8,
   "metadata": {},
   "outputs": [
    {
     "data": {
      "text/plain": [
       "(array([[ 0.50797903,  2.08147823],\n",
       "        [-2.09095261,  0.10827605],\n",
       "        [ 3.92946954,  3.96293089],\n",
       "        [-3.7441469 , -2.92757122],\n",
       "        [-4.48532797, -0.59190156]]),\n",
       " array([0, 0, 1, 1, 0]))"
      ]
     },
     "execution_count": 8,
     "metadata": {},
     "output_type": "execute_result"
    }
   ],
   "source": [
    "np.random.seed(3)\n",
    "randSeqs = (np.random.uniform(-5, 5, (5, 2)))\n",
    "#randSeqs\n",
    "\n",
    "np.random.seed(3)\n",
    "randY = np.random.randint(0, 2, 5)\n",
    "randSeqs, randY"
   ]
  },
  {
   "cell_type": "markdown",
   "metadata": {},
   "source": [
    "Обучение персептрона на 1 обучающей выборке"
   ]
  },
  {
   "cell_type": "code",
   "execution_count": 9,
   "metadata": {},
   "outputs": [
    {
     "name": "stdout",
     "output_type": "stream",
     "text": [
      "iter: 0 weights: [0.12132858 0.56931133] bias: 0.6229016948897019\n",
      "\n",
      "iter: 1 weights: [-2.87867142 -1.83068877] bias: -0.37709830511029807\n",
      "\n",
      "iter: 2 weights: [-2.87867142 -1.83068877] bias: -0.37709830511029807\n",
      "\n",
      "iter: 3 weights: [-2.87867142 -1.83068877] bias: -0.37709830511029807\n",
      "\n",
      "iter: 4 weights: [-2.87867142 -1.83068877] bias: -0.37709830511029807\n",
      "\n",
      "iter: 5 weights: [-2.87867142 -1.83068877] bias: -0.37709830511029807\n",
      "\n",
      "iter: 6 weights: [-2.87867142 -1.83068877] bias: -0.37709830511029807\n",
      "\n",
      "iter: 7 weights: [ 1.92132877 -6.03068858] bias: -1.377098305110298\n",
      "\n",
      "iter: 8 weights: [ 1.92132877 -6.03068858] bias: -1.377098305110298\n",
      "\n",
      "iter: 9 weights: [-1.87867118 -5.83068857] bias: -0.37709830511029807\n",
      "\n",
      "iter: 10 weights: [-1.87867118 -5.83068857] bias: -0.37709830511029807\n",
      "\n",
      "iter: 11 weights: [-1.87867118 -5.83068857] bias: -0.37709830511029807\n",
      "\n",
      "iter: 12 weights: [-1.87867118 -5.83068857] bias: -0.37709830511029807\n",
      "\n",
      "iter: 13 weights: [-1.87867118 -5.83068857] bias: -0.37709830511029807\n",
      "\n",
      "iter: 14 weights: [-1.87867118 -5.83068857] bias: -0.37709830511029807\n",
      "\n",
      "weights: [-1.87867118 -5.83068857], bias: -0.37709830511029807\n"
     ]
    }
   ],
   "source": [
    "model = Perceptron()\n",
    "weights, bias = model.Train(X.T, Y, False)\n",
    "print('weights: {}, bias: {}'.format(weights, bias))"
   ]
  },
  {
   "cell_type": "code",
   "execution_count": 10,
   "metadata": {},
   "outputs": [
    {
     "data": {
      "text/plain": [
       "0.2"
      ]
     },
     "execution_count": 10,
     "metadata": {},
     "output_type": "execute_result"
    }
   ],
   "source": [
    "model.MAE()"
   ]
  },
  {
   "cell_type": "code",
   "execution_count": 11,
   "metadata": {},
   "outputs": [
    {
     "data": {
      "text/plain": [
       "[0, 1, 0, 1, 1]"
      ]
     },
     "execution_count": 11,
     "metadata": {},
     "output_type": "execute_result"
    }
   ],
   "source": [
    "pred = [model.Predict(line, weights, bias, False) for line in randSeqs]\n",
    "pred"
   ]
  },
  {
   "cell_type": "code",
   "execution_count": 12,
   "metadata": {},
   "outputs": [
    {
     "data": {
      "image/png": "[encoded data removed]",
      "text/plain": [
       "<Figure size 432x288 with 1 Axes>"
      ]
     },
     "metadata": {
      "needs_background": "light"
     },
     "output_type": "display_data"
    }
   ],
   "source": [
    "Plot(df,1)\n",
    "area = np.linspace(-5, 5, 10)\n",
    "line = DividingLine(area, weights[0], weights[1], bias)\n",
    "plt.plot(area, line, color='black')\n",
    "\n",
    "for x, y, color in zip(randSeqs[:, 0], randSeqs[:, 1], pred):\n",
    "    plt.plot(x, y, \"^\", c=colors1[color])"
   ]
  },
  {
   "cell_type": "markdown",
   "metadata": {},
   "source": [
    "Изменим первую обучающую выборку так, чтобы она стала линейно неразделимой и обучим нейросеть на ней"
   ]
  },
  {
   "cell_type": "code",
   "execution_count": 13,
   "metadata": {},
   "outputs": [],
   "source": [
    "X_ = np.array([[3, -3.8, -1.8, -1.1, -3.2, -4.8], [2.4, 0.2, 0.4, -0.9, -2.5, 4.2]], dtype=np.float32)\n",
    "Y_ = np.array([1, 0, 1, 0, 1, 1])\n",
    "\n",
    "ds_ = np.insert(X_, 2, Y, axis=0)\n",
    "df_ = pd.DataFrame(ds.T, columns=['x1', 'x2', 'y'])"
   ]
  },
  {
   "cell_type": "code",
   "execution_count": 14,
   "metadata": {},
   "outputs": [
    {
     "name": "stdout",
     "output_type": "stream",
     "text": [
      "iter: 0 weights: [0.43706194 0.01874801] bias: 0.6229016948897019\n",
      "\n",
      "iter: 1 weights: [0.43706194 0.01874801] bias: 0.6229016948897019\n",
      "\n",
      "iter: 2 weights: [0.43706194 0.01874801] bias: 0.6229016948897019\n",
      "\n",
      "iter: 3 weights: [-1.36293801  0.41874801] bias: 1.622901694889702\n",
      "\n",
      "iter: 4 weights: [1.63706199 2.81874811] bias: 2.622901694889702\n",
      "\n",
      "iter: 5 weights: [1.63706199 2.81874811] bias: 2.622901694889702\n",
      "\n",
      "iter: 6 weights: [1.63706199 2.81874811] bias: 2.622901694889702\n",
      "\n",
      "iter: 7 weights: [1.63706199 2.81874811] bias: 2.622901694889702\n",
      "\n",
      "iter: 8 weights: [1.63706199 2.81874811] bias: 2.622901694889702\n",
      "\n",
      "iter: 9 weights: [-1.56293806  0.31874811] bias: 3.622901694889702\n",
      "\n",
      "iter: 10 weights: [1.43706194 2.71874821] bias: 4.622901694889702\n",
      "\n",
      "iter: 11 weights: [1.43706194 2.71874821] bias: 4.622901694889702\n",
      "\n",
      "iter: 12 weights: [1.43706194 2.71874821] bias: 4.622901694889702\n",
      "\n",
      "iter: 13 weights: [1.43706194 2.71874821] bias: 4.622901694889702\n",
      "\n",
      "iter: 14 weights: [2.53706197 3.61874818] bias: 3.622901694889702\n",
      "\n",
      "iter: 15 weights: [2.53706197 3.61874818] bias: 3.622901694889702\n",
      "\n",
      "iter: 16 weights: [2.53706197 3.61874818] bias: 3.622901694889702\n",
      "\n",
      "iter: 17 weights: [2.53706197 3.61874818] bias: 3.622901694889702\n",
      "\n",
      "iter: 18 weights: [2.53706197 3.61874818] bias: 3.622901694889702\n",
      "\n",
      "iter: 19 weights: [-0.66293808  1.11874818] bias: 4.622901694889702\n",
      "\n",
      "iter: 20 weights: [-0.66293808  1.11874818] bias: 4.622901694889702\n",
      "\n",
      "iter: 21 weights: [3.13706187 0.91874818] bias: 3.622901694889702\n",
      "\n",
      "iter: 22 weights: [3.13706187 0.91874818] bias: 3.622901694889702\n",
      "\n",
      "iter: 23 weights: [3.13706187 0.91874818] bias: 3.622901694889702\n",
      "\n",
      "iter: 24 weights: [1.33706192 1.31874818] bias: 4.622901694889702\n",
      "\n",
      "iter: 25 weights: [1.33706192 1.31874818] bias: 4.622901694889702\n",
      "\n",
      "iter: 26 weights: [1.33706192 1.31874818] bias: 4.622901694889702\n",
      "\n",
      "iter: 27 weights: [1.33706192 1.31874818] bias: 4.622901694889702\n",
      "\n",
      "iter: 28 weights: [2.43706194 2.21874816] bias: 3.622901694889702\n",
      "\n",
      "iter: 29 weights: [2.43706194 2.21874816] bias: 3.622901694889702\n",
      "\n",
      "iter: 30 weights: [2.43706194 2.21874816] bias: 3.622901694889702\n",
      "\n",
      "iter: 31 weights: [2.43706194 2.21874816] bias: 3.622901694889702\n",
      "\n",
      "iter: 32 weights: [2.43706194 2.21874816] bias: 3.622901694889702\n",
      "\n",
      "iter: 33 weights: [-0.76293811 -0.28125184] bias: 4.622901694889702\n",
      "\n",
      "iter: 34 weights: [-0.76293811 -0.28125184] bias: 4.622901694889702\n",
      "\n",
      "iter: 35 weights: [ 3.03706185 -0.48125184] bias: 3.622901694889702\n",
      "\n",
      "iter: 36 weights: [ 3.03706185 -0.48125184] bias: 3.622901694889702\n",
      "\n",
      "iter: 37 weights: [ 3.03706185 -0.48125184] bias: 3.622901694889702\n",
      "\n",
      "iter: 38 weights: [ 1.23706189 -0.08125184] bias: 4.622901694889702\n",
      "\n",
      "iter: 39 weights: [ 1.23706189 -0.08125184] bias: 4.622901694889702\n",
      "\n",
      "iter: 40 weights: [ 1.23706189 -0.08125184] bias: 4.622901694889702\n",
      "\n",
      "iter: 41 weights: [ 1.23706189 -0.08125184] bias: 4.622901694889702\n",
      "\n",
      "iter: 42 weights: [2.33706192 0.81874814] bias: 3.622901694889702\n",
      "\n",
      "iter: 43 weights: [2.33706192 0.81874814] bias: 3.622901694889702\n",
      "\n",
      "iter: 44 weights: [2.33706192 0.81874814] bias: 3.622901694889702\n",
      "\n",
      "iter: 45 weights: [0.53706197 1.21874815] bias: 4.622901694889702\n",
      "\n",
      "iter: 46 weights: [0.53706197 1.21874815] bias: 4.622901694889702\n",
      "\n",
      "iter: 47 weights: [4.33706192 1.01874814] bias: 3.622901694889702\n",
      "\n",
      "iter: 48 weights: [4.33706192 1.01874814] bias: 3.622901694889702\n",
      "\n",
      "iter: 49 weights: [4.33706192 1.01874814] bias: 3.622901694889702\n",
      "\n",
      "iter: 50 weights: [2.53706197 1.41874815] bias: 4.622901694889702\n",
      "\n",
      "weights: [2.53706197 1.41874815], bias: 4.622901694889702\n"
     ]
    }
   ],
   "source": [
    "model_ = Perceptron()\n",
    "weights_, bias_ = model_.Train(X_.T, Y_, False)\n",
    "print('weights: {}, bias: {}'.format(weights_, bias_))"
   ]
  },
  {
   "cell_type": "code",
   "execution_count": 15,
   "metadata": {},
   "outputs": [
    {
     "data": {
      "text/plain": [
       "0.32"
      ]
     },
     "execution_count": 15,
     "metadata": {},
     "output_type": "execute_result"
    }
   ],
   "source": [
    "model_.MAE()"
   ]
  },
  {
   "cell_type": "code",
   "execution_count": 16,
   "metadata": {},
   "outputs": [
    {
     "data": {
      "text/plain": [
       "[1, 0, 1, 0, 0]"
      ]
     },
     "execution_count": 16,
     "metadata": {},
     "output_type": "execute_result"
    }
   ],
   "source": [
    "pred_ = [model.Predict(line, weights_, bias_, False) for line in randSeqs]\n",
    "pred_"
   ]
  },
  {
   "cell_type": "code",
   "execution_count": 17,
   "metadata": {},
   "outputs": [
    {
     "data": {
      "image/png": "[encoded data removed]",
      "text/plain": [
       "<Figure size 432x288 with 1 Axes>"
      ]
     },
     "metadata": {
      "needs_background": "light"
     },
     "output_type": "display_data"
    }
   ],
   "source": [
    "Plot(df_,1)\n",
    "area = np.linspace(-5, 5, 10)\n",
    "line = DividingLine(area, weights_[0], weights_[1], bias_)\n",
    "plt.plot(area, line, color='black')\n",
    "\n",
    "for x, y, color in zip(randSeqs[:, 0], randSeqs[:, 1], pred_):\n",
    "    plt.plot(x, y, \"^\", c=colors1[color])"
   ]
  },
  {
   "cell_type": "markdown",
   "metadata": {},
   "source": [
    "Обучение на 2 выборке:"
   ]
  },
  {
   "cell_type": "code",
   "execution_count": 18,
   "metadata": {},
   "outputs": [
    {
     "name": "stdout",
     "output_type": "stream",
     "text": [
      "iter: 0 weights: [[0.04063074 0.2478883 ]\n",
      " [0.0935515  0.69482365]] bias: [0.14537014 0.4531723 ]\n",
      "\n",
      "iter: 1 weights: [[-1.95936926  0.2478883 ]\n",
      " [ 1.39355145  0.69482365]] bias: [-0.85462986  0.4531723 ]\n",
      "\n",
      "iter: 2 weights: [[-1.95936926  0.2478883 ]\n",
      " [ 1.39355145  0.69482365]] bias: [-0.85462986  0.4531723 ]\n",
      "\n",
      "iter: 3 weights: [[-4.25936922 -2.05211166]\n",
      " [-3.10644855 -3.80517635]] bias: [-1.85462986 -0.5468277 ]\n",
      "\n",
      "iter: 4 weights: [[-4.25936922 -2.05211166]\n",
      " [-3.10644855 -3.80517635]] bias: [-1.85462986 -0.5468277 ]\n",
      "\n",
      "iter: 5 weights: [[-4.25936922 -2.05211166]\n",
      " [-3.10644855 -3.80517635]] bias: [-1.85462986 -0.5468277 ]\n",
      "\n",
      "iter: 6 weights: [[-4.25936922 -2.05211166]\n",
      " [-3.10644855 -3.80517635]] bias: [-1.85462986 -0.5468277 ]\n",
      "\n",
      "iter: 7 weights: [[-4.25936922 -0.15211168]\n",
      " [-3.10644855  0.49482384]] bias: [-1.85462986 -1.5468277 ]\n",
      "\n",
      "iter: 8 weights: [[-4.25936922  1.84788832]\n",
      " [-3.10644855 -0.80517611]] bias: [-1.85462986 -0.5468277 ]\n",
      "\n",
      "iter: 9 weights: [[-4.25936922  1.84788832]\n",
      " [-3.10644855 -0.80517611]] bias: [-1.85462986 -0.5468277 ]\n",
      "\n",
      "iter: 10 weights: [[-4.25936922 -0.45211163]\n",
      " [-3.10644855 -5.30517611]] bias: [-1.85462986 -1.5468277 ]\n",
      "\n",
      "iter: 11 weights: [[-4.25936922 -0.45211163]\n",
      " [-3.10644855 -5.30517611]] bias: [-1.85462986 -1.5468277 ]\n",
      "\n",
      "iter: 12 weights: [[-4.25936922 -0.45211163]\n",
      " [-3.10644855 -5.30517611]] bias: [-1.85462986 -1.5468277 ]\n",
      "\n",
      "iter: 13 weights: [[-4.25936922 -0.45211163]\n",
      " [-3.10644855 -5.30517611]] bias: [-1.85462986 -1.5468277 ]\n",
      "\n",
      "iter: 14 weights: [[-4.25936922  1.44788834]\n",
      " [-3.10644855 -1.00517592]] bias: [-1.85462986 -2.5468277 ]\n",
      "\n",
      "iter: 15 weights: [[-4.25936922  1.44788834]\n",
      " [-3.10644855 -1.00517592]] bias: [-1.85462986 -2.5468277 ]\n",
      "\n",
      "iter: 16 weights: [[-4.25936922  1.44788834]\n",
      " [-3.10644855 -1.00517592]] bias: [-1.85462986 -2.5468277 ]\n",
      "\n",
      "iter: 17 weights: [[-4.25936922  1.44788834]\n",
      " [-3.10644855 -1.00517592]] bias: [-1.85462986 -2.5468277 ]\n",
      "\n",
      "iter: 18 weights: [[-4.25936922  1.44788834]\n",
      " [-3.10644855 -1.00517592]] bias: [-1.85462986 -2.5468277 ]\n",
      "\n",
      "iter: 19 weights: [[-4.25936922  1.44788834]\n",
      " [-3.10644855 -1.00517592]] bias: [-1.85462986 -2.5468277 ]\n",
      "\n",
      "iter: 20 weights: [[-4.25936922  1.44788834]\n",
      " [-3.10644855 -1.00517592]] bias: [-1.85462986 -2.5468277 ]\n",
      "\n",
      "iter: 21 weights: [[-4.25936922  1.44788834]\n",
      " [-3.10644855 -1.00517592]] bias: [-1.85462986 -2.5468277 ]\n",
      "\n"
     ]
    }
   ],
   "source": [
    "model2 = Perceptron()\n",
    "weights2, bias2 = model2.Train(X2.T, Y2.T, True)"
   ]
  },
  {
   "cell_type": "code",
   "execution_count": 19,
   "metadata": {},
   "outputs": [
    {
     "name": "stdout",
     "output_type": "stream",
     "text": [
      "weights: [[-4.25936922  1.44788834]\n",
      " [-3.10644855 -1.00517592]], bias: [-1.85462986 -2.5468277 ]\n"
     ]
    }
   ],
   "source": [
    "print('weights: {}, bias: {}'.format(weights2, bias2))"
   ]
  },
  {
   "cell_type": "code",
   "execution_count": 20,
   "metadata": {},
   "outputs": [
    {
     "data": {
      "text/plain": [
       "array([0.09090909, 0.22727273])"
      ]
     },
     "execution_count": 20,
     "metadata": {},
     "output_type": "execute_result"
    }
   ],
   "source": [
    "model2.MAE()"
   ]
  },
  {
   "cell_type": "code",
   "execution_count": 21,
   "metadata": {},
   "outputs": [
    {
     "data": {
      "text/plain": [
       "[array([0., 0.]),\n",
       " array([1., 0.]),\n",
       " array([0., 0.]),\n",
       " array([1., 0.]),\n",
       " array([1., 0.])]"
      ]
     },
     "execution_count": 21,
     "metadata": {},
     "output_type": "execute_result"
    }
   ],
   "source": [
    "pred2 = [model.Predict(line, weights2, bias2, True) for line in randSeqs]\n",
    "pred2"
   ]
  },
  {
   "cell_type": "code",
   "execution_count": 22,
   "metadata": {},
   "outputs": [
    {
     "data": {
      "image/png": "[encoded data removed]",
      "text/plain": [
       "<Figure size 432x288 with 1 Axes>"
      ]
     },
     "metadata": {
      "needs_background": "light"
     },
     "output_type": "display_data"
    }
   ],
   "source": [
    "Plot(df2,2)\n",
    "area = np.linspace(-5, 5, 10)\n",
    "line1 = DividingLine(area, weights2[0][0], weights2[1][0], bias2[0])\n",
    "line2 = DividingLine(area, weights2[0][1], weights2[1][1], bias2[1])\n",
    "plt.plot(area, line1, color='black')\n",
    "plt.plot(area, line2, color='black')\n",
    "\n",
    "\n",
    "for x, y, color in zip(randSeqs[:, 0], randSeqs[:, 1], pred):\n",
    "    plt.plot(x, y, \"^\", c=colors1[color])"
   ]
  }
 ],
 "metadata": {
  "kernelspec": {
   "display_name": "Python 3",
   "language": "python",
   "name": "python3"
  },
  "language_info": {
   "codemirror_mode": {
    "name": "ipython",
    "version": 3
   },
   "file_extension": ".py",
   "mimetype": "text/x-python",
   "name": "python",
   "nbconvert_exporter": "python",
   "pygments_lexer": "ipython3",
   "version": "3.8.10"
  }
 },
 "nbformat": 4,
 "nbformat_minor": 5
}
