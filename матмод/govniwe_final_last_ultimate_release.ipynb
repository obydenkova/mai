{
 "cells": [
  {
   "cell_type": "code",
   "execution_count": 4,
   "metadata": {},
   "outputs": [],
   "source": [
    "# Вариант\n",
    "gamma = 5/3 \n",
    "alpha = 0.05\n",
    "n = 8\n",
    "M = 10\n",
    "rho3 = 0.5\n",
    "\n",
    "# Параметры разбиения\n",
    "Nx, Ny = 20, 40\n",
    "Nt = 30\n",
    "T = 0.075\n",
    "\n",
    "# В какие три момента времени строить графики\n",
    "plot_time1, plot_time2, plot_time3 = 1, 9, 29"
   ]
  },
  {
   "cell_type": "markdown",
   "metadata": {},
   "source": [
    "Смоделируем развитие гидродинамической неустойчивости с помощью численных методов. Модель описывается следующей системой уравнений:\n",
    "$$\n",
    "\\begin{cases}\n",
    "\\frac{\\partial\\rho}{\\partial t} + \\frac{\\partial(\\rho u)}{\\partial x} + \\frac{\\partial(\\rho v)}{\\partial y} = 0,\\\\\n",
    "\\frac{\\partial(\\rho u)}{\\partial t} + \\frac{\\partial(\\rho u^2+p)}{\\partial x} + \\frac{\\partial(\\rho uv)}{\\partial y} = 0,\\\\\n",
    "\\frac{\\partial(\\rho v)}{\\partial t} + \\frac{\\partial(\\rho uv)}{\\partial x} + \\frac{\\partial(\\rho v^2+p)}{\\partial y} = 0,\\\\\n",
    "\\frac{\\partial(\\rho(\\varepsilon+\\frac{u^2+v^2}{2}))}{\\partial t} + \\frac{\\partial}{\\partial x}((\\rho(\\varepsilon+\\frac{u^2+v^2}{2})+p)u) + \\frac{\\partial}{\\partial y}((\\rho(\\varepsilon+\\frac{u^2+v^2}{2})+p)v) = 0.\n",
    "\\end{cases}\n",
    "$$"
   ]
  },
  {
   "cell_type": "markdown",
   "metadata": {},
   "source": [
    "Задача решается на прямоугольнике $0\\leq x\\leq 1, 0\\leq y\\leq 2$.\n",
    "\n",
    "Краевые условия заданы следующим образом:\n",
    "* На левой, правой и нижней границе задан нулевой поток,\n",
    "* На верхней границе задан равномерный поток.\n",
    "\n",
    "Начальные условия заданы следующим образом: прямоугольник разбивается на три области\n",
    "* Первая область: $y > 1.5$,\n",
    "* Вторая область: $\\alpha\\cos(n\\pi x)+0.7 < y < 1.5$,\n",
    "* Третья область: $y < \\alpha\\cos(n\\pi x)+0.7$.\n",
    "\n",
    "$y = 1.5$ - ударная волна. Число Маха $M$ данной волны задано. $\\alpha\\cos(n\\pi x)+0.7$ - контактный разрыв.\n",
    "\n",
    "$\\alpha$ и $n$ - заданные параметры. В каждой области гидродинамические величины константны и равны $\\rho_1, u_1, v_1, \\varepsilon_1, \\rho_2, u_2, v_2, \\varepsilon_2, \\rho_3, u_3, v_3, \\varepsilon_3$. Величины $u_1, u_2, u_3, v_2, v_3$ равны нулю, величины $\\rho_2, \\varepsilon_2$ равны единице, $\\rho_3$ задана. Значение $\\varepsilon_3$ можно выразить из условия равенства давления.\n",
    "\n",
    "$$p_2 = p_3$$\n",
    "$$(\\gamma-1)\\rho_2\\varepsilon_2 = (\\gamma-1)\\rho_3\\varepsilon_3$$\n",
    "$$\\varepsilon_3 = \\frac{\\rho_2\\varepsilon_2}{\\rho_3}$$"
   ]
  },
  {
   "cell_type": "markdown",
   "metadata": {},
   "source": [
    "Значения $\\rho_1, u_1, v_1, \\varepsilon_1$ выражаются из соотношений Гюгонио.\n",
    "\n",
    "$$\\rho_1 v_1 - \\rho_2 v_2 = D(\\rho_1 - \\rho_2),$$\n",
    "$$\\rho_1 v_1^2 + p_1 - \\rho_2 v_2^2 - p_2 = D(\\rho_1 v_1 - \\rho_2 v_2),$$\n",
    "$$v_1\\left(\\rho_1\\varepsilon_1 + \\rho_1\\frac{v_1^2}{2} + p_1\\right) - v_2\\left(\\rho_2\\varepsilon_2 + \\rho_2\\frac{v_2^2}{2} + p_2\\right) = D\\left(\\rho_1\\varepsilon_1 + \\rho_1\\frac{v_1^2}{2} - \\rho_2\\varepsilon_2 - \\rho_2\\frac{v_2^2}{2}\\right)$$\n",
    "\n",
    "Скорость движения ударной волны равна $D=c_2 M, c_2=\\sqrt{\\gamma(\\gamma-1)\\varepsilon_2}$.\n",
    "\n",
    "Если подставить $v_2=0$ в соотношения, то они значительно упрощаются:\n",
    "\n",
    "$$\\rho_1 v_1 = D(\\rho_1 - \\rho_2),$$\n",
    "$$\\rho_1 v_1^2 + p_1 - p_2 = D\\rho_1 v_1,$$\n",
    "$$v_1\\left(\\rho_1\\varepsilon_1 + \\rho_1\\frac{v_1^2}{2} + p_1\\right) = D\\left(\\rho_1\\varepsilon_1 + \\rho_1\\frac{v_1^2}{2} - \\rho_2\\varepsilon_2\\right)$$"
   ]
  },
  {
   "cell_type": "markdown",
   "metadata": {},
   "source": [
    "Выразим $\\rho_1, v_1, \\varepsilon_1$ из данных соотношений. Выразим $\\rho_1$ через $v_1$:\n",
    "\n",
    "$$\\rho_1 v_1 = D(\\rho_1 - \\rho_2)$$\n",
    "$$\\rho_1 v_1 = D\\rho_1 - D\\rho_2$$\n",
    "$$D\\rho_2 = D\\rho_1 - v_1\\rho_1$$\n",
    "$$(D-v_1)\\rho_1=D\\rho_2$$\n",
    "$$\\rho_1=\\frac{D\\rho_2}{D-v_1}$$\n",
    "\n",
    "Выразим $\\varepsilon_1$ через $v_1$:\n",
    "$$\\rho_1 v_1^2 + p_1 - p_2 = D\\rho_1 v_1$$\n",
    "$$\\rho_1 v_1^2 + (\\gamma-1)\\rho_1\\varepsilon_1 - (\\gamma-1)\\rho_2\\varepsilon_2 = D\\rho_1 v_1$$\n",
    "$$(\\gamma-1)\\rho_1\\varepsilon_1 = D\\rho_1 v_1 - \\rho_1 v_1^2 + (\\gamma-1)\\rho_2\\varepsilon_2$$\n",
    "$$(\\gamma-1)\\rho_1\\varepsilon_1 = (D - v_1)\\rho_1 v_1 + (\\gamma-1)\\rho_2\\varepsilon_2$$\n",
    "\n",
    "Подставим выражение $\\rho_1$:\n",
    "$$\\frac{(\\gamma-1)D\\rho_2}{D-v_1}\\varepsilon_1 = D\\rho_2 v_1 + (\\gamma-1)\\rho_2\\varepsilon_2$$\n",
    "$$\\frac{\\gamma-1}{D-v_1}\\varepsilon_1 = v_1 + \\frac{\\gamma-1}{D}\\varepsilon_2$$\n",
    "\n",
    "Переобозначим $B=\\frac{\\gamma-1}{D}\\varepsilon_2$. Это упростит вычисления в дальнейшем.\n",
    "\n",
    "$$\\frac{\\gamma-1}{D-v_1}\\varepsilon_1 = v_1 + B$$\n",
    "$$\\varepsilon_1 = \\frac{(D-v_1)(v_1 + B)}{\\gamma-1}$$"
   ]
  },
  {
   "cell_type": "markdown",
   "metadata": {},
   "source": [
    "Найдём значение $v_1$ из третьего соотношения:\n",
    "\n",
    "$$v_1\\left(\\rho_1\\varepsilon_1 + \\rho_1\\frac{v_1^2}{2} + p_1\\right) = D\\left(\\rho_1\\varepsilon_1 + \\rho_1\\frac{v_1^2}{2} - \\rho_2\\varepsilon_2\\right)$$\n",
    "$$v_1\\left(\\rho_1\\varepsilon_1 + \\rho_1\\frac{v_1^2}{2} + (\\gamma-1)\\rho_1\\varepsilon_1\\right) = D\\left(\\rho_1\\varepsilon_1 + \\rho_1\\frac{v_1^2}{2} - \\rho_2\\varepsilon_2\\right)$$\n",
    "$$v_1\\left(\\rho_1\\frac{v_1^2}{2} + \\gamma\\rho_1\\varepsilon_1\\right) = D\\left(\\rho_1\\varepsilon_1 + \\rho_1\\frac{v_1^2}{2} - \\rho_2\\varepsilon_2\\right)$$\n",
    "\n",
    "Подставим $\\rho_1$ и $\\varepsilon_1$:\n",
    "\n",
    "$$\\rho_1\\varepsilon_1 = \\frac{D\\rho_2}{D-v_1}\\frac{(D-v_1)(v_1 + B)}{\\gamma-1} = \\frac{D\\rho_2(v_1 + B)}{\\gamma-1}$$\n",
    "\n",
    "$$v_1\\left(\\frac{D\\rho_2 v_1^2}{2(D-v_1)} + \\frac{\\gamma D\\rho_2(v_1 + B)}{\\gamma-1}\\right) = D\\left(\\frac{D\\rho_2(v_1 + B)}{\\gamma-1} + \\frac{D\\rho_2 v_1^2}{2(D-v_1)} - \\rho_2\\varepsilon_2\\right)$$\n",
    "\n",
    "$$\\frac{D\\rho_2 v_1^3}{2(D-v_1)} + \\frac{\\gamma Dv_1\\rho_2(v_1 + B)}{\\gamma-1} = \\frac{D^2\\rho_2(v_1 + B)}{\\gamma-1} + \\frac{D^2\\rho_2 v_1^2}{2(D-v_1)} - D\\rho_2\\varepsilon_2$$\n",
    "\n",
    "$$\\frac{\\gamma D\\rho_2 v_1^2}{\\gamma-1} + \\frac{\\gamma BD\\rho_2 v_1}{\\gamma-1} + D\\rho_2\\varepsilon_2 =\n",
    "\\frac{D^2\\rho_2 v_1}{\\gamma-1} + \\frac{\\frac{(\\gamma-1)\\varepsilon_2}{D}D^2\\rho_2}{\\gamma-1} + D\\frac{D\\rho_2 v_1^2}{2(D-v_1)} - v_1\\frac{D\\rho_2 v_1^2}{2(D-v_1)}$$\n",
    "\n",
    "$$\\frac{\\gamma D\\rho_2 v_1^2}{\\gamma-1} + \\frac{\\gamma \\frac{(\\gamma-1)\\varepsilon_2}{D}D\\rho_2 v_1}{\\gamma-1} - \\frac{D^2\\rho_2 v_1}{\\gamma-1} + D\\rho_2\\varepsilon_2 = D\\rho_2\\varepsilon_2 + \\frac{D(D-v_1)\\rho_2 v_1^2}{2(D-v_1)}$$\n",
    "\n",
    "$$\\frac{\\gamma D\\rho_2 v_1^2}{\\gamma-1} + \\gamma\\rho_2\\varepsilon_2 v_1 - \\frac{D^2\\rho_2 v_1}{\\gamma-1} = \\frac{D\\rho_2 v_1^2}{2}$$\n",
    "\n",
    "$$\\left(\\left(\\frac{\\gamma D}{\\gamma-1} - \\frac{D}{2}\\right)v_1 + \\gamma\\varepsilon_2 - \\frac{D^2}{\\gamma-1}\\right)v_1 = 0$$"
   ]
  },
  {
   "cell_type": "markdown",
   "metadata": {},
   "source": [
    "Если $v_1=0$, то $\\rho_1=\\frac{D\\rho_2}{D-v_1}=\\rho_2$. Для устойчивости ударной волны необходимо $\\rho_1 > \\rho_2$, потому данное решение не подходит. Следовательно, $v_1\\neq 0$.\n",
    "\n",
    "$$\\left(\\frac{\\gamma D}{\\gamma-1} - \\frac{D}{2}\\right)v_1 + \\gamma\\varepsilon_2 - \\frac{D^2}{\\gamma-1} = 0$$\n",
    "$$\\left(\\frac{\\gamma D}{\\gamma-1} - \\frac{D}{2}\\right)v_1 = \\frac{D^2}{\\gamma-1} - \\gamma\\varepsilon_2$$\n",
    "$$\\left(\\gamma D - \\frac{D(\\gamma-1)}{2}\\right)v_1 = D^2 - \\gamma(\\gamma-1)\\varepsilon_2$$\n",
    "$$\\left(2\\gamma D - \\gamma D + D\\right)v_1 = 2D^2 - 2\\gamma(\\gamma-1)\\varepsilon_2$$\n",
    "$$D(\\gamma + 1)v_1 = 2D^2 - 2\\gamma(\\gamma-1)\\varepsilon_2$$\n",
    "\n",
    "$$v_1 = \\frac{2(D^2 - \\gamma(\\gamma-1)\\varepsilon_2)}{D(\\gamma+1)}$$\n",
    "\n",
    "Проверим условие $\\rho_1 > \\rho_2$:\n",
    "\n",
    "$$\\frac{D\\rho_2}{D-v_1}>\\rho_2$$\n",
    "$$\\frac{D}{D-v_1}>1$$\n",
    "\n",
    "Чтобы дробь была положительной, необходимо $v_1 < D$.\n",
    "\n",
    "$$D>D-v_1$$\n",
    "$$0>-v_1$$\n",
    "$$v_1>0$$\n",
    "\n",
    "Итого, $0<v_1<D$. Проверим, что полученное $v_1$ удовлетворяет данным ограничениям.\n",
    "\n",
    "$$\\frac{2(D^2 - \\gamma(\\gamma-1)\\varepsilon_2)}{D(\\gamma+1)} < D$$\n",
    "$$2(D^2 - \\gamma(\\gamma-1)\\varepsilon_2) < D^2(\\gamma+1)$$\n",
    "$$2c_2^2 M^2 - 2\\gamma(\\gamma-1)\\varepsilon_2 < c_2^2 M^2(\\gamma+1)$$\n",
    "$$2\\gamma(\\gamma-1)\\varepsilon_2 M^2 - 2\\gamma(\\gamma-1)\\varepsilon_2 < \\gamma(\\gamma-1)(\\gamma+1)\\varepsilon_2 M^2$$\n",
    "$$2 M^2 - 2 < (\\gamma+1) M^2$$\n",
    "$$(\\gamma+1) M^2 - 2M^2 > -2$$\n",
    "$$(\\gamma-1) M^2 > -2$$\n",
    "\n",
    "Показатель адиабаты $\\gamma>1$, потому выражение в левой части положительно. $v_1<D$ выполняется.\n",
    "\n",
    "$$\\frac{2(D^2 - \\gamma(\\gamma-1)\\varepsilon_2)}{D(\\gamma+1)} > 0$$\n",
    "$$D^2 - \\gamma(\\gamma-1)\\varepsilon_2 > 0$$\n",
    "$$c_2^2 M^2 - \\gamma(\\gamma-1)\\varepsilon_2 > 0$$\n",
    "$$\\gamma(\\gamma-1)\\varepsilon_2 M^2 - \\gamma(\\gamma-1)\\varepsilon_2 > 0$$\n",
    "$$M^2 - 1 > 0$$\n",
    "$$M^2 > 1$$\n",
    "\n",
    "Число Маха $M>1$, потому неравенство выполняется. $v_1>0$ выполняется. Значит, найденное значение $v_1$ удовлетворяет условиям устойчивости. Зная значение $v_1$, можно вычислить значения $\\rho_1$ и $\\varepsilon_1$ по формулам, выписанным ранее."
   ]
  },
  {
   "cell_type": "markdown",
   "metadata": {},
   "source": [
    "Построим сетку на области интегрирования. Сетка выбирается так, чтобы число разбиений по оси Y было кратно десяти. Таким образом, ударная волна проходит по границе сетки. Значения гидродинамических величин в ячейках вычисляются следующим образом:\n",
    "\n",
    "1) Если ордината центра ячейки больше 1.5, то задаём значения $\\rho=\\rho_1, u=0, v=v_1, \\varepsilon=\\varepsilon_1$.\n",
    "\n",
    "2) Если ордината центра ячейки меньше 1.5, то вычисляем площадь $V_3$ под косинусом $\\alpha\\cos(n\\pi x)+0.7$ внутри ячейки, $V_2 = \\Delta x\\Delta y$. Так как $u_2=u_3=0$ и $v_2=v_3=0$, то задаём значения скоростей $u=0, v=0$. Найдём значения $\\rho$ и $\\varepsilon$. Из закона сохранения массы получаем:\n",
    "\n",
    "$$\\rho\\Delta x\\Delta y = \\rho_2 V_2 + \\rho_3 V_3$$\n",
    "$$\\rho = \\frac{\\rho_2 V_2 + \\rho_3 V_3}{\\Delta x\\Delta y}$$\n",
    "\n",
    "Из закона сохранения энергии получаем:\n",
    "\n",
    "$$\\rho\\varepsilon\\Delta x\\Delta y = \\rho_2\\varepsilon_2 V_2 + \\rho_3\\varepsilon_3 V_3$$\n",
    "$$\\varepsilon = \\frac{\\rho_2\\varepsilon_2 V_2 + \\rho_3\\varepsilon_3 V_3}{\\rho\\Delta x\\Delta y}$$"
   ]
  },
  {
   "cell_type": "markdown",
   "metadata": {},
   "source": [
    "Вычислим площадь под косинусом $a\\cos(wx)+b$ внутри прямоугольника $x_1\\leq x\\leq x_2, y_1\\leq y\\leq y_2$. Построим абсциссы $p_0 < p_1 < ... < p_n$, где $p_0 = x_1, p_n = x_2$, а $p_1,p_2,...,p_{n-1}$ - абсциссы точек пересечения косинуса с прямыми $y=y_1$ и $y=y_2$. Внутри каждого отрезка $[p_i, p_{i+1}]$ косинус не пересекает прямые $y=y_1$ и $y=y_2$, что позволяет вычислить площадь под косинусом внутри прямоугольника $p_i\\leq x\\leq p_{i+1}, y_1\\leq y\\leq y_2$ следующим образом:\n",
    "\n",
    "1) Вычисляем значение косинуса в середине отрезка $\\frac{p_i+p_{i+1}}{2}$.\n",
    "\n",
    "2) Если значение косинуса меньше $y_1$, значит косинус целиком проходит под прямоугольником, потому площадь равна 0.\n",
    "\n",
    "3) Если значение косинуса больше $y_2$, значит косинус целиком проходит над прямоугольником, потому площадь равна площади прямоугольника $(p_{i+1}-p_i)(y_2-y_1)$.\n",
    "\n",
    "4) Если значение косинуса лежит в пределах от $y_1$ до $y_2$, то косинус проходит внутри прямоугольника, потому площадь считается как интеграл:\n",
    "\n",
    "$$S = \\int\\limits_{p_i}^{p_{i+1}} (a\\cos(wx)+b-y_1)dx = \\frac{a}{w}(\\sin(wp_{i+1})-\\sin(wp_i)) + (p_{i+1}-p_i)(b-y_1).$$\n",
    "\n",
    "Итоговая площадь считается как сумма площадей на каждом отрезке."
   ]
  },
  {
   "cell_type": "markdown",
   "metadata": {},
   "source": [
    "Подключим необходимые для вычислений библиотеки:"
   ]
  },
  {
   "cell_type": "code",
   "execution_count": 5,
   "metadata": {},
   "outputs": [],
   "source": [
    "import numpy as np\n",
    "import matplotlib.pyplot as plt\n",
    "from matplotlib.colors import LinearSegmentedColormap\n",
    "import math"
   ]
  },
  {
   "cell_type": "markdown",
   "metadata": {},
   "source": [
    "Напишем функцию, вычисляющую площадь по описанному алгоритму:"
   ]
  },
  {
   "cell_type": "code",
   "execution_count": 6,
   "metadata": {},
   "outputs": [],
   "source": [
    "# площадь под косинусом a*cos(w*x)+b внутри прямоугольника x1<=x<=x2, y1<=y<=y2\n",
    "def cos_area(x1, y1, x2, y2, a, b, w):\n",
    "    # точки пересечения косинуса с прямой y\n",
    "    def intersect(y):\n",
    "        # a*cos(w*x)+b=y\n",
    "        # cos(w*x)=(y-b)/a\n",
    "        # x = +-arccos((y-b)/a)/w + 2*pi*n/w\n",
    "        cx = (y - b) / a\n",
    "        if abs(cx) >= 1: # нет точек пересечения\n",
    "            return []\n",
    "        \n",
    "        # найдём точки, лежащие в отрезке [x1, x2]\n",
    "        points = [ (i * math.acos(cx) - 2 * math.pi) / w for i in [ -1, 1 ] ]\n",
    "        ret_points = []\n",
    "        \n",
    "        for p in points:\n",
    "            while p < x2:\n",
    "                if p > x1:\n",
    "                    ret_points.append(p)\n",
    "                p += 2 * math.pi / w\n",
    "        \n",
    "        return ret_points\n",
    "    \n",
    "    # все точки пересечения\n",
    "    points = [x1, x2] + intersect(y1) + intersect(y2)\n",
    "    points.sort()\n",
    "    \n",
    "    # считаем площадь\n",
    "    area = 0\n",
    "    \n",
    "    for i in range(len(points) - 1):\n",
    "        p1, p2 = points[i], points[i + 1]\n",
    "        p = 0.5 * (p1 + p2)\n",
    "        fp = a * math.cos(w * p) + b\n",
    "        \n",
    "        # пустая область\n",
    "        if fp < y1:\n",
    "            continue\n",
    "        # частично заполненная область\n",
    "        elif fp < y2:\n",
    "            area += a / w * (math.sin(w * p2) - math.sin(w * p1)) + (p2 - p1) * (b - y1)\n",
    "        # полностью заполненная область\n",
    "        else:\n",
    "            area += (p2 - p1) * (y2 - y1)\n",
    "        \n",
    "    return area"
   ]
  },
  {
   "cell_type": "markdown",
   "metadata": {},
   "source": [
    "Численное интегрирование будем проводить по следующей схеме:\n",
    "$$\\frac{\\partial\\varphi_{i,j}}{\\partial t} + \\frac{F^x_{i+\\frac{1}{2},j} - F^x_{i-\\frac{1}{2},j}}{\\Delta x} + \\frac{F^y_{i,j+\\frac{1}{2}} - F^y_{i,j-\\frac{1}{2}}}{\\Delta y} = 0.$$\n",
    "\n",
    "В схеме первого порядка точности по пространству потоки на границах считаются следующим образом:\n",
    "$$F^x_{i+\\frac{1}{2},j} = \\frac{F^x_{i,j} + F^x_{i+1,j}}{2} - c_{i+\\frac{1}{2},j}\\frac{\\varphi_{i+1,j} - \\varphi_{i,j}}{2},$$\n",
    "$$c_{i+\\frac{1}{2},j} = \\max(c_{i,j}+|u_{i,j}|,c_{i+1,j}+|u_{i+1,j}|).$$\n",
    "\n",
    "В схеме второго порядка точности используются следующие величины:\n",
    "$$\\varphi^-_{i+\\frac{1}{2},j} = \\varphi_{i,j} + \\alpha(R^-)\\frac{\\varphi_{i+1,j}-\\varphi_{i,j}}{2},$$\n",
    "$$\\varphi^+_{i+\\frac{1}{2},j} = \\varphi_{i+1,j} - \\alpha(R^+)\\frac{\\varphi_{i+2,j}-\\varphi_{i+1,j}}{2},$$\n",
    "$$R^- = \\frac{\\varphi_{i,j}-\\varphi_{i-1,j}}{\\varphi_{i+1,j}-\\varphi_{i,j}}, R^+ = \\frac{\\varphi_{i+1,j}-\\varphi_{i,j}}{\\varphi_{i+2,j}-\\varphi_{i+1,j}},$$\n",
    "\n",
    "$$\\alpha(R)=\\begin{cases}\n",
    "0, R<0,\\\\R, 0\\leq R\\leq 1,\\\\1, R>1.\n",
    "\\end{cases}$$\n",
    "\n",
    "Вместо величин $i,j$ подставляем величины, вычисленные по $\\varphi^-_{i+\\frac{1}{2},j}$, а вместо $i+1,j$ - вычисленные по $\\varphi^+_{i+\\frac{1}{2},j}$. Потоки $F^x_{i-\\frac{1}{2},j}, F^y_{i,j+\\frac{1}{2}}, F^y_{i,j-\\frac{1}{2}}$ считаются аналогично."
   ]
  },
  {
   "cell_type": "markdown",
   "metadata": {},
   "source": [
    "В схеме первого порядка точности по времени производная аппроксимируется как разность:\n",
    "$$\\frac{\\varphi^{n+1}_{i,j} - \\varphi^{n}_{i,j}}{\\Delta t} + \\frac{F^{x,n}_{i+\\frac{1}{2},j} - F^{x,n}_{i-\\frac{1}{2},j}}{\\Delta x} + \\frac{F^{y,n}_{i,j+\\frac{1}{2}} - F^{y,n}_{i,j-\\frac{1}{2}}}{\\Delta y} = 0.$$\n",
    "\n",
    "В схеме второго порядка $\\varphi^{n+1}_{i,j}$ считается следующим образом:\n",
    "$$\\frac{\\varphi^{n+0.5}_{i,j} - \\varphi^{n}_{i,j}}{0.5\\Delta t} + \\frac{F^{x,n}_{i+\\frac{1}{2},j} - F^{x,n}_{i-\\frac{1}{2},j}}{\\Delta x} + \\frac{F^{y,n}_{i,j+\\frac{1}{2}} - F^{y,n}_{i,j-\\frac{1}{2}}}{\\Delta y} = 0,$$\n",
    "$$\\frac{\\varphi^{n+1}_{i,j} - \\varphi^{n}_{i,j}}{\\Delta t} + \\frac{F^{x,n+0.5}_{i+\\frac{1}{2},j} - F^{x,n+0.5}_{i-\\frac{1}{2},j}}{\\Delta x} + \\frac{F^{y,n+0.5}_{i,j+\\frac{1}{2}} - F^{y,n+0.5}_{i,j-\\frac{1}{2}}}{\\Delta y} = 0.$$\n"
   ]
  },
  {
   "cell_type": "code",
   "execution_count": 7,
   "metadata": {},
   "outputs": [],
   "source": [
    "# преобразование в phi и обратно\n",
    "def to_phi(nrho, nu, nv, neps, k, i, j):\n",
    "    rho, u, v, eps = nrho[k, i, j], nu[k, i, j], nv[k, i, j], neps[k, i, j]\n",
    "    return np.array([rho, rho * u, rho * v, rho * (eps + 0.5 * (u * u + v * v))])\n",
    "\n",
    "def from_phi(phi):\n",
    "    rho = phi[0]\n",
    "    u = phi[1] / rho\n",
    "    v = phi[2] / rho\n",
    "    eps = phi[3] / rho - 0.5 * (u * u + v * v)\n",
    "    return rho, u, v, eps\n",
    "\n",
    "# потоки\n",
    "def get_Fx(gamma, phi):\n",
    "    rho, u, v, eps = from_phi(phi)\n",
    "    P = (gamma - 1) * rho * eps\n",
    "    E = rho * (eps + 0.5 * (u * u + v * v))\n",
    "    return np.array([ rho * u, rho * u * u + P, rho * u * v, (E + P) * u ])\n",
    "\n",
    "def get_Fy(gamma, phi):\n",
    "    rho, u, v, eps = from_phi(phi)\n",
    "    P = (gamma - 1) * rho * eps\n",
    "    E = rho * (eps + 0.5 * (u * u + v * v))\n",
    "    return np.array([ rho * v, rho * u * v, rho * v * v + P, (E + P) * v ])"
   ]
  },
  {
   "cell_type": "code",
   "execution_count": 8,
   "metadata": {},
   "outputs": [],
   "source": [
    "# потоки на границах\n",
    "def get_F_half(phi_m1, phi_p1, phi_m, phi_p, gamma, vert):\n",
    "    # параметры\n",
    "    rho_m1, u_m1, v_m1, eps_m1 = from_phi(phi_m1)\n",
    "    rho_p1, u_p1, v_p1, eps_p1 = from_phi(phi_p1)\n",
    "    rho_m, u_m, v_m, eps_m = from_phi(phi_m)\n",
    "    rho_p, u_p, v_p, eps_p = from_phi(phi_p)\n",
    "    \n",
    "    s_m1 = v_m1 if vert else u_m1\n",
    "    s_p1 = v_p1 if vert else u_p1\n",
    "    s_m = v_m if vert else u_m\n",
    "    s_p = v_p if vert else u_p\n",
    "\n",
    "    # скорости звука\n",
    "    c_m1 = math.sqrt(gamma * (gamma - 1) * eps_m1)\n",
    "    c_p1 = math.sqrt(gamma * (gamma - 1) * eps_p1)\n",
    "    c_m = math.sqrt(gamma * (gamma - 1) * eps_m)\n",
    "    c_p = math.sqrt(gamma * (gamma - 1) * eps_p)\n",
    "\n",
    "    c_mh = max(c_m1 + abs(s_m1), c_m + abs(s_m))\n",
    "    c_ph = max(c_p1 + abs(s_p1), c_p + abs(s_p))\n",
    "\n",
    "    # потоки\n",
    "    get_F = get_Fy if vert else get_Fx\n",
    "    \n",
    "    F_m1 = get_F(gamma, phi_m1)\n",
    "    F_p1 = get_F(gamma, phi_p1)\n",
    "    F_m = get_F(gamma, phi_m)\n",
    "    F_p = get_F(gamma, phi_p)\n",
    "    \n",
    "    F_mh = 0.5 * (F_m1 + F_m - c_mh * (phi_m1 - phi_m))\n",
    "    F_ph = 0.5 * (F_p + F_p1 - c_ph * (phi_p - phi_p1))\n",
    "    return F_mh, F_ph"
   ]
  },
  {
   "cell_type": "code",
   "execution_count": 9,
   "metadata": {},
   "outputs": [],
   "source": [
    "# функция alpha(R) поэлементно\n",
    "def alpha_all(R1, R2):\n",
    "    R = np.zeros_like(R1)\n",
    "    for i in range(R.shape[0]):\n",
    "        if R2[i] != 0:\n",
    "            R[i] = R1[i] / R2[i]\n",
    "            if R[i] < 0: R[i] = 0\n",
    "            elif R[i] > 1: R[i] = 1\n",
    "    return R\n",
    "\n",
    "# вычисление точки на правой границе со вторым порядком точности\n",
    "def border2(phi_m, phi, phi_p, phi_2p):\n",
    "    aRm = alpha_all(phi - phi_m, phi_p - phi)\n",
    "    aRp = alpha_all(phi_p - phi, phi_2p - phi_p)\n",
    "    \n",
    "    phi_hm = phi + 0.5 * aRm * (phi_p - phi)\n",
    "    phi_hp = phi_p - 0.5 * aRp * (phi_2p - phi_p)\n",
    "    return phi_hm, phi_hp"
   ]
  },
  {
   "cell_type": "code",
   "execution_count": 10,
   "metadata": {},
   "outputs": [],
   "source": [
    "def solve(orderXY, orderT, Nx, Ny, Nt, T, gamma, rho2, eps2, rho3, M, alpha, n):\n",
    "    rho = np.zeros(shape=(Nt + orderT - 1, Nx + 4, Ny + 4))\n",
    "    u = np.zeros(shape=(Nt + orderT - 1, Nx + 4, Ny + 4))\n",
    "    v = np.zeros(shape=(Nt + orderT - 1, Nx + 4, Ny + 4))\n",
    "    eps = np.zeros(shape=(Nt + orderT - 1, Nx + 4, Ny + 4))\n",
    "    \n",
    "    dx, dy, dt = 1.0 / Nx, 2.0 / Ny, T / Nt\n",
    "    \n",
    "    # начальные условия\n",
    "    eps3 = rho2 * eps2 / rho3\n",
    "    \n",
    "    c2 = math.sqrt(gamma * (gamma - 1) * eps2)\n",
    "    D = c2 * M\n",
    "    B = (gamma - 1) * eps2 / D\n",
    "    \n",
    "    v1 = 2 * (D * D - gamma * (gamma - 1) * eps2) / (D * (gamma + 1))\n",
    "    rho1 = D * rho2 / (D - v1)\n",
    "    eps1 = (v1 + B) * (D - v1) / (gamma - 1)\n",
    "    v1 = -v1\n",
    "    \n",
    "    for i in range(2, Nx + 2):\n",
    "        for j in range(2, Ny + 2):\n",
    "            x, y = (i - 2 + 0.5) * dx, (j - 2 + 0.5) * dy\n",
    "            # контактный разрыв\n",
    "            if y < 1.5:\n",
    "                V = dx * dy\n",
    "                V3 = cos_area(x - 0.5 * dx, y - 0.5 * dy, x + 0.5 * dx, y + 0.5 * dy, alpha, 0.7, n * math.pi)\n",
    "                V2 = V - V3\n",
    "                rho[0, i, j] = (rho2 * V2 + rho3 * V3) / V\n",
    "                eps[0, i, j] = (rho2 * V2 * eps2 + rho3 * V3 * eps3) / (V * rho[0, i, j])\n",
    "            # ударная волна\n",
    "            else:\n",
    "                rho[0, i, j] = rho1\n",
    "                v[0, i, j] = v1\n",
    "                eps[0, i, j] = eps1\n",
    "    \n",
    "    \n",
    "    # вычисление следующих моментов времени\n",
    "    k0, k = -1, orderT - 2\n",
    "    for repeat in range(0, orderT * (Nt - 1)):\n",
    "        print(int(100 * repeat / (orderT * (Nt - 1))), '%')\n",
    "        \n",
    "        if orderT == 1:\n",
    "            k0 += 1\n",
    "            k += 1\n",
    "        elif k0 == k:\n",
    "            k = -1\n",
    "        else:\n",
    "            k0 += 1\n",
    "            k = k0\n",
    "        \n",
    "        # краевые условия\n",
    "        for j in range(2, Ny + 2):\n",
    "            for i in range(2):\n",
    "                # слева\n",
    "                rho[k, i, j] = rho[k, 3 - i, j]\n",
    "                u[k, i, j] = -u[k, 3 - i, j]\n",
    "                v[k, i, j] = v[k, 3 - i, j]\n",
    "                eps[k, i, j] = eps[k, 3 - i, j]\n",
    "                # справа\n",
    "                rho[k, Nx + 2 + i, j] = rho[k, Nx + 1 - i, j]\n",
    "                u[k, Nx + 2 + i, j] = -u[k, Nx + 1 - i, j]\n",
    "                v[k, Nx + 2 + i, j] = v[k, Nx + 1 - i, j]\n",
    "                eps[k, Nx + 2 + i, j] = eps[k, Nx + 1 - i, j]\n",
    "        \n",
    "        for i in range(2, Nx + 2):\n",
    "            for j in range(2):\n",
    "                # снизу\n",
    "                rho[k, i, j] = rho[k, i, 3 - j]\n",
    "                u[k, i, j] = u[k, i, 3 - j]\n",
    "                v[k, i, j] = -v[k, i, 3 - j]\n",
    "                eps[k, i, j] = eps[k, i, 3 - j]\n",
    "                # сверху\n",
    "                rho[k, i, Ny + 2 + j] = rho1\n",
    "                u[k, i, Ny + 2 + j] = 0\n",
    "                v[k, i, Ny + 2 + j] = v1\n",
    "                eps[k, i, Ny + 2 + j] = eps1\n",
    "                \n",
    "        # следующие значения\n",
    "        for i in range(2, Nx + 2):\n",
    "            for j in range(2, Ny + 2):\n",
    "                # текущее значение phi\n",
    "                phi1 = to_phi(rho, u, v, eps, k0, i, j)\n",
    "                \n",
    "                # вычисляем потоки на границах\n",
    "                phi = to_phi(rho, u, v, eps, k, i, j)\n",
    "                phi_mx = to_phi(rho, u, v, eps, k, i - 1, j)\n",
    "                phi_px = to_phi(rho, u, v, eps, k, i + 1, j)\n",
    "                phi_my = to_phi(rho, u, v, eps, k, i, j - 1)\n",
    "                phi_py = to_phi(rho, u, v, eps, k, i, j + 1)\n",
    "                \n",
    "                if orderXY == 2:\n",
    "                    phi_2mx = to_phi(rho, u, v, eps, k, i - 2, j)\n",
    "                    phi_2px = to_phi(rho, u, v, eps, k, i + 2, j)\n",
    "                    phi_2my = to_phi(rho, u, v, eps, k, i, j - 2)\n",
    "                    phi_2py = to_phi(rho, u, v, eps, k, i, j + 2)\n",
    "                    \n",
    "                    phi_hmx_m, phi_hmx_p = border2(phi_2mx, phi_mx, phi, phi_px)\n",
    "                    phi_hpx_m, phi_hpx_p = border2(phi_mx, phi, phi_px, phi_2px)\n",
    "                    phi_hmy_m, phi_hmy_p = border2(phi_2my, phi_my, phi, phi_py)\n",
    "                    phi_hpy_m, phi_hpy_p = border2(phi_my, phi, phi_py, phi_2py)\n",
    "                    \n",
    "                    F_mhx, F_phx = get_F_half(phi_hmx_p, phi_hpx_m, phi_hmx_m, phi_hpx_p, gamma, False)\n",
    "                    F_mhy, F_phy = get_F_half(phi_hmy_p, phi_hpy_m, phi_hmy_m, phi_hpy_p, gamma, True)\n",
    "                else:\n",
    "                    F_mhx, F_phx = get_F_half(phi, phi, phi_mx, phi_px, gamma, False)\n",
    "                    F_mhy, F_phy = get_F_half(phi, phi, phi_my, phi_py, gamma, True)\n",
    "                \n",
    "                # вычисляем новое значение phi\n",
    "                mult = 0.5 if k == k0 and orderT == 2 else 1\n",
    "                phi2 = phi1 - mult * dt / dx * (F_phx - F_mhx) - mult * dt / dy * (F_phy - F_mhy)\n",
    "                \n",
    "                # выражаем параметры\n",
    "                kw = -1 if k == k0 and orderT == 2 else k0 + 1\n",
    "                rho[kw, i, j], u[kw, i, j], v[kw, i, j], eps[kw, i, j] = from_phi(phi2)\n",
    "    \n",
    "    # убираем границы и вспомогательный слой\n",
    "    print('Done!')\n",
    "    return rho[:Nt, 2:Nx+2, 2:Ny+2], u[:Nt, 2:Nx+2, 2:Ny+2], v[:Nt, 2:Nx+2, 2:Ny+2], eps[:Nt, 2:Nx+2, 2:Ny+2]"
   ]
  },
  {
   "cell_type": "code",
   "execution_count": 11,
   "metadata": {},
   "outputs": [],
   "source": [
    "# градиент\n",
    "cdict = {'red':   [(0.0,  0.1, 0.1),\n",
    "                   (0.1,  0.3, 0.3),\n",
    "                   (0.9,  0.7, 0.7),\n",
    "                   (1.0,  0.9, 0.9)],}\n",
    "cdict['green'] = cdict['red']\n",
    "cdict['blue'] = cdict['red']\n",
    "\n",
    "custom_clrs = LinearSegmentedColormap('custom_clrs', cdict)\n",
    "\n",
    "# рисует графики для определённого момента времени\n",
    "def plotTime(time_index):\n",
    "    print('t =', time_index * T / Nt)\n",
    "    \n",
    "    plt.figure()\n",
    "    fig, splots = plt.subplots(1, 4)\n",
    "    fig.set_figheight(10)\n",
    "    fig.set_figwidth(20)\n",
    "    \n",
    "    for i, arr in enumerate([np.log(rho), u, v, np.log(eps)]):\n",
    "        splots[i].imshow(np.flip(arr[time_index].T, axis=0), extent=(0,1,0,2), interpolation='none', cmap=custom_clrs)"
   ]
  },
  {
   "cell_type": "markdown",
   "metadata": {},
   "source": [
    "Запустим схему первого порядка точности по времени и пространству:"
   ]
  },
  {
   "cell_type": "code",
   "execution_count": 12,
   "metadata": {},
   "outputs": [
    {
     "name": "stdout",
     "output_type": "stream",
     "text": [
      "0 %\n",
      "3 %\n",
      "6 %\n",
      "10 %\n",
      "13 %\n",
      "17 %\n",
      "20 %\n",
      "24 %\n",
      "27 %\n",
      "31 %\n",
      "34 %\n",
      "37 %\n",
      "41 %\n",
      "44 %\n",
      "48 %\n",
      "51 %\n",
      "55 %\n",
      "58 %\n",
      "62 %\n",
      "65 %\n",
      "68 %\n",
      "72 %\n",
      "75 %\n",
      "79 %\n",
      "82 %\n",
      "86 %\n",
      "89 %\n",
      "93 %\n",
      "96 %\n",
      "Done!\n"
     ]
    }
   ],
   "source": [
    "rho, u, v, eps = solve(orderXY = 1, orderT = 1, Nx = Nx, Ny = Ny, Nt = Nt, T = T, gamma = gamma, rho2 = 1, eps2 = 1, rho3 = rho3, M = M, alpha = alpha, n = n)"
   ]
  },
  {
   "cell_type": "markdown",
   "metadata": {},
   "source": [
    "Построим графики для начального момента времени:"
   ]
  },
  {
   "cell_type": "code",
   "execution_count": 13,
   "metadata": {},
   "outputs": [
    {
     "name": "stdout",
     "output_type": "stream",
     "text": [
      "t = 0.0\n"
     ]
    },
    {
     "data": {
      "text/plain": [
       "<Figure size 432x288 with 0 Axes>"
      ]
     },
     "metadata": {},
     "output_type": "display_data"
    },
    {
     "data": {
      "image/png": "[encoded data removed]",
      "text/plain": [
       "<Figure size 1440x720 with 4 Axes>"
      ]
     },
     "metadata": {
      "needs_background": "light"
     },
     "output_type": "display_data"
    }
   ],
   "source": [
    "plotTime(0)"
   ]
  },
  {
   "cell_type": "markdown",
   "metadata": {},
   "source": [
    "Построим графики для следующих моментов времени:"
   ]
  },
  {
   "cell_type": "code",
   "execution_count": 14,
   "metadata": {},
   "outputs": [
    {
     "name": "stdout",
     "output_type": "stream",
     "text": [
      "t = 0.0025\n"
     ]
    },
    {
     "data": {
      "text/plain": [
       "<Figure size 432x288 with 0 Axes>"
      ]
     },
     "metadata": {},
     "output_type": "display_data"
    },
    {
     "data": {
      "image/png": "[encoded data removed]",
      "text/plain": [
       "<Figure size 1440x720 with 4 Axes>"
      ]
     },
     "metadata": {
      "needs_background": "light"
     },
     "output_type": "display_data"
    }
   ],
   "source": [
    "plotTime(plot_time1)"
   ]
  },
  {
   "cell_type": "code",
   "execution_count": 15,
   "metadata": {},
   "outputs": [
    {
     "name": "stdout",
     "output_type": "stream",
     "text": [
      "t = 0.0225\n"
     ]
    },
    {
     "data": {
      "text/plain": [
       "<Figure size 432x288 with 0 Axes>"
      ]
     },
     "metadata": {},
     "output_type": "display_data"
    },
    {
     "data": {
      "image/png": "[encoded data removed]",
      "text/plain": [
       "<Figure size 1440x720 with 4 Axes>"
      ]
     },
     "metadata": {
      "needs_background": "light"
     },
     "output_type": "display_data"
    }
   ],
   "source": [
    "plotTime(plot_time2)"
   ]
  },
  {
   "cell_type": "code",
   "execution_count": 16,
   "metadata": {},
   "outputs": [
    {
     "name": "stdout",
     "output_type": "stream",
     "text": [
      "t = 0.0725\n"
     ]
    },
    {
     "data": {
      "text/plain": [
       "<Figure size 432x288 with 0 Axes>"
      ]
     },
     "metadata": {},
     "output_type": "display_data"
    },
    {
     "data": {
      "image/png": "[encoded data removed]",
      "text/plain": [
       "<Figure size 1440x720 with 4 Axes>"
      ]
     },
     "metadata": {
      "needs_background": "light"
     },
     "output_type": "display_data"
    }
   ],
   "source": [
    "plotTime(plot_time3)"
   ]
  },
  {
   "cell_type": "markdown",
   "metadata": {},
   "source": [
    "Запустим схему второго порядка точности по пространству и первого по времени:"
   ]
  },
  {
   "cell_type": "code",
   "execution_count": 17,
   "metadata": {},
   "outputs": [
    {
     "name": "stdout",
     "output_type": "stream",
     "text": [
      "0 %\n",
      "3 %\n",
      "6 %\n",
      "10 %\n",
      "13 %\n",
      "17 %\n",
      "20 %\n",
      "24 %\n",
      "27 %\n",
      "31 %\n",
      "34 %\n",
      "37 %\n",
      "41 %\n",
      "44 %\n",
      "48 %\n",
      "51 %\n",
      "55 %\n",
      "58 %\n",
      "62 %\n",
      "65 %\n",
      "68 %\n",
      "72 %\n",
      "75 %\n",
      "79 %\n",
      "82 %\n",
      "86 %\n",
      "89 %\n",
      "93 %\n",
      "96 %\n",
      "Done!\n"
     ]
    }
   ],
   "source": [
    "rho, u, v, eps = solve(orderXY = 2, orderT = 1, Nx = Nx, Ny = Ny, Nt = Nt, T = T, gamma = gamma, rho2 = 1, eps2 = 1, rho3 = rho3, M = M, alpha = alpha, n = n)"
   ]
  },
  {
   "cell_type": "markdown",
   "metadata": {},
   "source": [
    "Построим графики для следующих моментов времени:"
   ]
  },
  {
   "cell_type": "code",
   "execution_count": 18,
   "metadata": {},
   "outputs": [
    {
     "name": "stdout",
     "output_type": "stream",
     "text": [
      "t = 0.0025\n"
     ]
    },
    {
     "data": {
      "text/plain": [
       "<Figure size 432x288 with 0 Axes>"
      ]
     },
     "metadata": {},
     "output_type": "display_data"
    },
    {
     "data": {
      "image/png": "[encoded data removed]",
      "text/plain": [
       "<Figure size 1440x720 with 4 Axes>"
      ]
     },
     "metadata": {
      "needs_background": "light"
     },
     "output_type": "display_data"
    }
   ],
   "source": [
    "plotTime(plot_time1)"
   ]
  },
  {
   "cell_type": "code",
   "execution_count": 19,
   "metadata": {},
   "outputs": [
    {
     "name": "stdout",
     "output_type": "stream",
     "text": [
      "t = 0.0225\n"
     ]
    },
    {
     "data": {
      "text/plain": [
       "<Figure size 432x288 with 0 Axes>"
      ]
     },
     "metadata": {},
     "output_type": "display_data"
    },
    {
     "data": {
      "image/png": "[encoded data removed]",
      "text/plain": [
       "<Figure size 1440x720 with 4 Axes>"
      ]
     },
     "metadata": {
      "needs_background": "light"
     },
     "output_type": "display_data"
    }
   ],
   "source": [
    "plotTime(plot_time2)"
   ]
  },
  {
   "cell_type": "code",
   "execution_count": 20,
   "metadata": {},
   "outputs": [
    {
     "name": "stdout",
     "output_type": "stream",
     "text": [
      "t = 0.0725\n"
     ]
    },
    {
     "data": {
      "text/plain": [
       "<Figure size 432x288 with 0 Axes>"
      ]
     },
     "metadata": {},
     "output_type": "display_data"
    },
    {
     "data": {
      "image/png": "[encoded data removed]",
      "text/plain": [
       "<Figure size 1440x720 with 4 Axes>"
      ]
     },
     "metadata": {
      "needs_background": "light"
     },
     "output_type": "display_data"
    }
   ],
   "source": [
    "plotTime(plot_time3)"
   ]
  },
  {
   "cell_type": "markdown",
   "metadata": {},
   "source": [
    "Запустим схему второго порядка точности по времени и пространству:"
   ]
  },
  {
   "cell_type": "code",
   "execution_count": 21,
   "metadata": {},
   "outputs": [
    {
     "name": "stdout",
     "output_type": "stream",
     "text": [
      "0 %\n",
      "1 %\n",
      "3 %\n",
      "5 %\n",
      "6 %\n",
      "8 %\n",
      "10 %\n",
      "12 %\n",
      "13 %\n",
      "15 %\n",
      "17 %\n",
      "18 %\n",
      "20 %\n",
      "22 %\n",
      "24 %\n",
      "25 %\n",
      "27 %\n",
      "29 %\n",
      "31 %\n",
      "32 %\n",
      "34 %\n",
      "36 %\n",
      "37 %\n",
      "39 %\n",
      "41 %\n",
      "43 %\n",
      "44 %\n",
      "46 %\n",
      "48 %\n",
      "50 %\n",
      "51 %\n",
      "53 %\n",
      "55 %\n",
      "56 %\n",
      "58 %\n",
      "60 %\n",
      "62 %\n",
      "63 %\n",
      "65 %\n",
      "67 %\n",
      "68 %\n",
      "70 %\n",
      "72 %\n",
      "74 %\n",
      "75 %\n",
      "77 %\n",
      "79 %\n",
      "81 %\n",
      "82 %\n",
      "84 %\n",
      "86 %\n",
      "87 %\n",
      "89 %\n",
      "91 %\n",
      "93 %\n",
      "94 %\n",
      "96 %\n",
      "98 %\n",
      "Done!\n"
     ]
    }
   ],
   "source": [
    "rho, u, v, eps = solve(orderXY = 2, orderT = 2, Nx = Nx, Ny = Ny, Nt = Nt, T = T, gamma = gamma, rho2 = 1, eps2 = 1, rho3 = rho3, M = M, alpha = alpha, n = n)"
   ]
  },
  {
   "cell_type": "markdown",
   "metadata": {},
   "source": [
    "Построим графики для следующих моментов времени:"
   ]
  },
  {
   "cell_type": "code",
   "execution_count": 22,
   "metadata": {},
   "outputs": [
    {
     "name": "stdout",
     "output_type": "stream",
     "text": [
      "t = 0.0025\n"
     ]
    },
    {
     "data": {
      "text/plain": [
       "<Figure size 432x288 with 0 Axes>"
      ]
     },
     "metadata": {},
     "output_type": "display_data"
    },
    {
     "data": {
      "image/png": "[encoded data removed]",
      "text/plain": [
       "<Figure size 1440x720 with 4 Axes>"
      ]
     },
     "metadata": {
      "needs_background": "light"
     },
     "output_type": "display_data"
    }
   ],
   "source": [
    "plotTime(plot_time1)"
   ]
  },
  {
   "cell_type": "code",
   "execution_count": 23,
   "metadata": {},
   "outputs": [
    {
     "name": "stdout",
     "output_type": "stream",
     "text": [
      "t = 0.0225\n"
     ]
    },
    {
     "data": {
      "text/plain": [
       "<Figure size 432x288 with 0 Axes>"
      ]
     },
     "metadata": {},
     "output_type": "display_data"
    },
    {
     "data": {
      "image/png": "[encoded data removed]",
      "text/plain": [
       "<Figure size 1440x720 with 4 Axes>"
      ]
     },
     "metadata": {
      "needs_background": "light"
     },
     "output_type": "display_data"
    }
   ],
   "source": [
    "plotTime(plot_time2)"
   ]
  },
  {
   "cell_type": "code",
   "execution_count": 24,
   "metadata": {},
   "outputs": [
    {
     "name": "stdout",
     "output_type": "stream",
     "text": [
      "t = 0.0725\n"
     ]
    },
    {
     "data": {
      "text/plain": [
       "<Figure size 432x288 with 0 Axes>"
      ]
     },
     "metadata": {},
     "output_type": "display_data"
    },
    {
     "data": {
      "image/png": "[encoded data removed]",
      "text/plain": [
       "<Figure size 1440x720 with 4 Axes>"
      ]
     },
     "metadata": {
      "needs_background": "light"
     },
     "output_type": "display_data"
    }
   ],
   "source": [
    "plotTime(plot_time3)"
   ]
  },
  {
   "cell_type": "markdown",
   "metadata": {},
   "source": [
    "Будем измельчать сетку до тех пор, пока средний модуль разности между решениями первого и второго порядка точности не будет превышать пороговое значение:"
   ]
  },
  {
   "cell_type": "code",
   "execution_count": 25,
   "metadata": {},
   "outputs": [],
   "source": [
    "# измельчаем, пока не выполнится\n",
    "# mean(|rho_1 - rh0_2| + mean(|u_1 - u_2| + mean(|v_1 - v_2| + mean(|eps_1 - eps_2|) < lim_val\n",
    "def subdiv(lim_val):\n",
    "    nx, ny, nt, tmax = 10, 20, 10, T / 2\n",
    "    print('Size:', nx, 'x', ny, 'x', nt)\n",
    "    r1, u1, v1, e1 = solve(orderXY = 1, orderT = 1, Nx = nx, Ny = ny, Nt = nt, T = tmax, gamma = gamma, rho2 = 1, eps2 = 1, rho3 = rho3, M = M, alpha = alpha, n = n)\n",
    "    \n",
    "    while True:\n",
    "        nx, ny, nt = 2 * nx, 2 * ny, 2 * nt\n",
    "        print('Size:', nx, 'x', ny, 'x', nt)\n",
    "        r2, u2, v2, e2 = solve(orderXY = 1, orderT = 1, Nx = nx, Ny = ny, Nt = nt, T = tmax, gamma = gamma, rho2 = 1, eps2 = 1, rho3 = rho3, M = M, alpha = alpha, n = n)\n",
    "        \n",
    "        diffR = np.abs(r1 - r2[::2,::2,::2]).mean()\n",
    "        diffU = np.abs(u1 - u2[::2,::2,::2]).mean()\n",
    "        diffV = np.abs(v1 - v2[::2,::2,::2]).mean()\n",
    "        diffE = np.abs(e1 - e2[::2,::2,::2]).mean()\n",
    "        diff = diffR + diffU + diffV + diffE\n",
    "        \n",
    "        print('Difference rho:', diffR)\n",
    "        print('Difference u:', diffU)\n",
    "        print('Difference v:', diffV)\n",
    "        print('Difference eps:', diffE)\n",
    "        print('Total difference:', diff)\n",
    "        \n",
    "        if diff < lim_val:\n",
    "            print('Done!')\n",
    "            return r1, u1, v1, e1, r2, u2, v2, e2\n",
    "        \n",
    "        r1, u1, v1, e1 = r2, u2, v2, e2"
   ]
  },
  {
   "cell_type": "code",
   "execution_count": 27,
   "metadata": {},
   "outputs": [
    {
     "name": "stdout",
     "output_type": "stream",
     "text": [
      "Size: 10 x 20 x 10\n",
      "0 %\n",
      "11 %\n",
      "22 %\n",
      "33 %\n",
      "44 %\n",
      "55 %\n",
      "66 %\n",
      "77 %\n",
      "88 %\n",
      "Done!\n",
      "Size: 20 x 40 x 20\n",
      "0 %\n",
      "5 %\n",
      "10 %\n",
      "15 %\n",
      "21 %\n",
      "26 %\n",
      "31 %\n",
      "36 %\n",
      "42 %\n",
      "47 %\n",
      "52 %\n",
      "57 %\n",
      "63 %\n",
      "68 %\n",
      "73 %\n",
      "78 %\n",
      "84 %\n",
      "89 %\n",
      "94 %\n",
      "Done!\n",
      "Difference rho: 0.05669279300173686\n",
      "Difference u: 9.959634879585306e-09\n",
      "Difference v: 0.19526547855395407\n",
      "Difference eps: 0.9948895732509406\n",
      "Total difference: 1.2468478547662665\n",
      "Size: 40 x 80 x 40\n",
      "0 %\n",
      "2 %\n",
      "5 %\n",
      "7 %\n",
      "10 %\n",
      "12 %\n",
      "15 %\n",
      "17 %\n",
      "20 %\n",
      "23 %\n",
      "25 %\n",
      "28 %\n",
      "30 %\n",
      "33 %\n",
      "35 %\n",
      "38 %\n",
      "41 %\n",
      "43 %\n",
      "46 %\n",
      "48 %\n",
      "51 %\n",
      "53 %\n",
      "56 %\n",
      "58 %\n",
      "61 %\n",
      "64 %\n",
      "66 %\n",
      "69 %\n",
      "71 %\n",
      "74 %\n",
      "76 %\n",
      "79 %\n",
      "82 %\n",
      "84 %\n",
      "87 %\n",
      "89 %\n",
      "92 %\n",
      "94 %\n",
      "97 %\n",
      "Done!\n",
      "Difference rho: 0.0390743339907364\n",
      "Difference u: 2.5850261671689367e-12\n",
      "Difference v: 0.12275980727124097\n",
      "Difference eps: 0.6100513128446586\n",
      "Total difference: 0.771885454109221\n",
      "Done!\n"
     ]
    }
   ],
   "source": [
    "r1, u1, v1, e1, r2, u2, v2, e2 = subdiv(1.24)"
   ]
  },
  {
   "cell_type": "markdown",
   "metadata": {},
   "source": [
    "Построим графики полученных решений. Как видно, графики почти не отличаются, кроме небольших помех по горизонтальной скорости."
   ]
  },
  {
   "cell_type": "code",
   "execution_count": 28,
   "metadata": {},
   "outputs": [
    {
     "name": "stdout",
     "output_type": "stream",
     "text": [
      "t = 0.0475\n"
     ]
    },
    {
     "data": {
      "text/plain": [
       "<Figure size 432x288 with 0 Axes>"
      ]
     },
     "metadata": {},
     "output_type": "display_data"
    },
    {
     "data": {
      "image/png": "[encoded data removed]",
      "text/plain": [
       "<Figure size 1440x720 with 4 Axes>"
      ]
     },
     "metadata": {
      "needs_background": "light"
     },
     "output_type": "display_data"
    }
   ],
   "source": [
    "rho, u, v, eps = r1, u1, v1, e1\n",
    "plotTime(rho.shape[0] - 1)"
   ]
  },
  {
   "cell_type": "code",
   "execution_count": 29,
   "metadata": {},
   "outputs": [
    {
     "name": "stdout",
     "output_type": "stream",
     "text": [
      "t = 0.09749999999999999\n"
     ]
    },
    {
     "data": {
      "text/plain": [
       "<Figure size 432x288 with 0 Axes>"
      ]
     },
     "metadata": {},
     "output_type": "display_data"
    },
    {
     "data": {
      "image/png": "[encoded data removed]",
      "text/plain": [
       "<Figure size 1440x720 with 4 Axes>"
      ]
     },
     "metadata": {
      "needs_background": "light"
     },
     "output_type": "display_data"
    }
   ],
   "source": [
    "rho, u, v, eps = r2, u2, v2, e2\n",
    "plotTime(rho.shape[0] - 1)"
   ]
  }
 ],
 "metadata": {
  "kernelspec": {
   "display_name": "Python 3",
   "language": "python",
   "name": "python3"
  },
  "language_info": {
   "codemirror_mode": {
    "name": "ipython",
    "version": 3
   },
   "file_extension": ".py",
   "mimetype": "text/x-python",
   "name": "python",
   "nbconvert_exporter": "python",
   "pygments_lexer": "ipython3",
   "version": "3.8.10"
  }
 },
 "nbformat": 4,
 "nbformat_minor": 5
}
